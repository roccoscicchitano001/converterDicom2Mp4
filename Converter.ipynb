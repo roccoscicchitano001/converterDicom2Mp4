{
 "cells": [
  {
   "cell_type": "markdown",
   "id": "e1b6f9a1",
   "metadata": {
    "id": "e1b6f9a1"
   },
   "source": [
    "# Convertitore Dicom To Mp4"
   ]
  },
  {
   "cell_type": "markdown",
   "id": "3f2c61d0",
   "metadata": {
    "id": "3f2c61d0"
   },
   "source": [
    "Librerie necessarie al corretto funzionamento degli scripts:\n",
    "1. [Numpy](https://pypi.org/project/numpy/)\n",
    "1. [Pydicom](https://pypi.org/project/pydicom/)\n",
    "1. [Os](https://pypi.org/project/OS-Platform/)\n",
    "1. [Cv2](https://pypi.org/project/cv_utils/)\n",
    "\n",
    "Prima di procedere all'importazione delle stesse è necessario procedere con l'installazione!"
   ]
  },
  {
   "cell_type": "code",
   "execution_count": 7,
   "id": "4e3c9afd",
   "metadata": {
    "colab": {
     "base_uri": "https://localhost:8080/"
    },
    "executionInfo": {
     "elapsed": 19300,
     "status": "ok",
     "timestamp": 1688379675839,
     "user": {
      "displayName": "ROCCO SCICCHITANO",
      "userId": "11055832571808867836"
     },
     "user_tz": -120
    },
    "id": "4e3c9afd",
    "outputId": "f0cbee70-0dfe-45d8-83af-4b117414cd8f"
   },
   "outputs": [
    {
     "name": "stdout",
     "output_type": "stream",
     "text": [
      "Requirement already satisfied: numpy in c:\\users\\u14929\\appdata\\local\\packages\\pythonsoftwarefoundation.python.3.10_qbz5n2kfra8p0\\localcache\\local-packages\\python310\\site-packages (1.24.3)\n",
      "Requirement already satisfied: pydicom in c:\\users\\u14929\\appdata\\local\\packages\\pythonsoftwarefoundation.python.3.10_qbz5n2kfra8p0\\localcache\\local-packages\\python310\\site-packages (2.4.1)\n",
      "Collecting opencv-python\n",
      "  Using cached opencv_python-4.8.0.74-cp37-abi3-win_amd64.whl (38.1 MB)\n",
      "Requirement already satisfied: numpy>=1.21.2 in c:\\users\\u14929\\appdata\\local\\packages\\pythonsoftwarefoundation.python.3.10_qbz5n2kfra8p0\\localcache\\local-packages\\python310\\site-packages (from opencv-python) (1.24.3)\n",
      "Installing collected packages: opencv-python\n",
      "Successfully installed opencv-python-4.8.0.74\n"
     ]
    }
   ],
   "source": [
    "# Librerie necessarie\n",
    "!pip install numpy\n",
    "!pip install pydicom\n",
    "!pip install opencv-python"
   ]
  },
  {
   "cell_type": "code",
   "execution_count": 8,
   "id": "4a8bf3db",
   "metadata": {
    "executionInfo": {
     "elapsed": 1558,
     "status": "ok",
     "timestamp": 1688379931574,
     "user": {
      "displayName": "ROCCO SCICCHITANO",
      "userId": "11055832571808867836"
     },
     "user_tz": -120
    },
    "id": "4a8bf3db"
   },
   "outputs": [],
   "source": [
    "# Import necessari\n",
    "from glob import glob\n",
    "import pydicom\n",
    "import os\n",
    "import cv2\n",
    "from PIL import Image\n",
    "import re\n",
    "import numpy as np"
   ]
  },
  {
   "cell_type": "code",
   "execution_count": 9,
   "id": "d71fb959",
   "metadata": {
    "colab": {
     "base_uri": "https://localhost:8080/"
    },
    "executionInfo": {
     "elapsed": 351,
     "status": "ok",
     "timestamp": 1688381050000,
     "user": {
      "displayName": "ROCCO SCICCHITANO",
      "userId": "11055832571808867836"
     },
     "user_tz": -120
    },
    "id": "d71fb959",
    "outputId": "bcf33829-7032-41bf-915d-6742259e0ef6"
   },
   "outputs": [
    {
     "name": "stdout",
     "output_type": "stream",
     "text": [
      "(11, 430, 600)\n"
     ]
    }
   ],
   "source": [
    "# Carico il file DICOM\n",
    "path=!pwd\n",
    "filename = os.path.join(path[0],\"sample.DCM\")\n",
    "ds = pydicom.dcmread(filename)\n",
    "num_frames = ds.NumberOfFrames\n",
    "pixel_data = ds.pixel_array\n",
    "pixel_data = cv2.normalize(pixel_data, None, 0, 255, cv2.NORM_MINMAX,cv2.CV_8U)\n",
    "print(pixel_data.shape)\n",
    "numbers = re.compile(r'(\\d+)')\n",
    "def numericalSort(value):\n",
    "    parts = numbers.split(value)\n",
    "    parts[1::2] = map(int, parts[1::2])\n",
    "    return parts"
   ]
  },
  {
   "cell_type": "code",
   "execution_count": 10,
   "id": "5d13fd86",
   "metadata": {},
   "outputs": [],
   "source": [
    "# Estraggo i singoli frame immagini dal file DCM\n",
    "for i in range(pixel_data.shape[0]):\n",
    "    os.makedirs(path[0]+'/Output/dicom_3d_images', exist_ok=True)\n",
    "    slice = pixel_data[i, :, :]\n",
    "    if ds.PhotometricInterpretation == 'YBR_FULL_422':\n",
    "        slice = cv2.cvtColor(slice, cv2.COLOR_YUV2RGB)\n",
    "    img = Image.fromarray(slice)\n",
    "    img.save(f'{path[0]}/Output/dicom_3d_images/image{i}.jpg')"
   ]
  },
  {
   "cell_type": "code",
   "execution_count": 11,
   "id": "fc23554e",
   "metadata": {
    "id": "fc23554e"
   },
   "outputs": [],
   "source": [
    "# Includo tutti i frame in un unico video\n",
    "file_path = glob(path[0]+'/Output/dicom_3d_images/*.jpg')\n",
    "height, width, _ = cv2.imread(file_path[0]).shape\n",
    "size = (width, height)\n",
    "fourcc = cv2.VideoWriter_fourcc(*'mp4v')\n",
    "fps = 60\n",
    "out = cv2.VideoWriter(path[0]+'/Output/image1.mp4', fourcc, fps, size)\n",
    "\n",
    "for filename in sorted(file_path, key=numericalSort):\n",
    "    img = cv2.imread(filename)\n",
    "    out.write(img)\n",
    "out.release()"
   ]
  }
 ],
 "metadata": {
  "colab": {
   "provenance": []
  },
  "kernelspec": {
   "display_name": "Python 3 (ipykernel)",
   "language": "python",
   "name": "python3"
  },
  "language_info": {
   "codemirror_mode": {
    "name": "ipython",
    "version": 3
   },
   "file_extension": ".py",
   "mimetype": "text/x-python",
   "name": "python",
   "nbconvert_exporter": "python",
   "pygments_lexer": "ipython3",
   "version": "3.9.12"
  }
 },
 "nbformat": 4,
 "nbformat_minor": 5
}

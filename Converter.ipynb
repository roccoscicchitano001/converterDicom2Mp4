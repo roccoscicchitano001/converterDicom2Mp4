{
 "cells": [
  {
   "cell_type": "markdown",
   "id": "e1b6f9a1",
   "metadata": {},
   "source": [
    "# Convertitore Dicom To Mp4"
   ]
  },
  {
   "cell_type": "markdown",
   "id": "3f2c61d0",
   "metadata": {},
   "source": [
    "Librerie necessarie al corretto funzionamento degli scripts:\n",
    "1. [Numpy](https://pypi.org/project/numpy/)\n",
    "1. [Pydicom](https://pypi.org/project/pydicom/)\n",
    "1. [Os](https://pypi.org/project/OS-Platform/)\n",
    "1. [Cv2](https://pypi.org/project/cv_utils/)\n",
    "\n",
    "Prima di procedere all'importazione delle stesse è necessario procedere con l'installazione!"
   ]
  },
  {
   "cell_type": "code",
   "execution_count": 1,
   "id": "4e3c9afd",
   "metadata": {},
   "outputs": [
    {
     "name": "stdout",
     "output_type": "stream",
     "text": [
      "Collecting package metadata (current_repodata.json): ...working... failed\n"
     ]
    },
    {
     "name": "stderr",
     "output_type": "stream",
     "text": [
      "\n",
      "CondaHTTPError: HTTP 000 CONNECTION FAILED for url <https://repo.anaconda.com/pkgs/main/win-64/current_repodata.json>\n",
      "Elapsed: -\n",
      "\n",
      "An HTTP error occurred when trying to retrieve this URL.\n",
      "HTTP errors are often intermittent, and a simple retry will get you on your way.\n",
      "\n",
      "If your current network has https://www.anaconda.com blocked, please file\n",
      "a support request with your network engineering team.\n",
      "\n",
      "'https//repo.anaconda.com/pkgs/main/win-64'\n",
      "\n",
      "\n"
     ]
    },
    {
     "name": "stdout",
     "output_type": "stream",
     "text": [
      "Collecting package metadata (current_repodata.json): ...working... failed\n"
     ]
    },
    {
     "name": "stderr",
     "output_type": "stream",
     "text": [
      "\n",
      "CondaHTTPError: HTTP 000 CONNECTION FAILED for url <https://repo.anaconda.com/pkgs/main/win-64/current_repodata.json>\n",
      "Elapsed: -\n",
      "\n",
      "An HTTP error occurred when trying to retrieve this URL.\n",
      "HTTP errors are often intermittent, and a simple retry will get you on your way.\n",
      "\n",
      "If your current network has https://www.anaconda.com blocked, please file\n",
      "a support request with your network engineering team.\n",
      "\n",
      "'https//repo.anaconda.com/pkgs/main/win-64'\n",
      "\n",
      "\n",
      "\n",
      "CondaHTTPError: HTTP 000 CONNECTION FAILED for url <https://repo.anaconda.com/pkgs/main/win-64/current_repodata.json>\n",
      "Elapsed: -\n",
      "\n",
      "An HTTP error occurred when trying to retrieve this URL.\n",
      "HTTP errors are often intermittent, and a simple retry will get you on your way.\n",
      "\n",
      "If your current network has https://www.anaconda.com blocked, please file\n",
      "a support request with your network engineering team.\n",
      "\n",
      "'https//repo.anaconda.com/pkgs/main/win-64'\n",
      "\n",
      "\n"
     ]
    },
    {
     "name": "stdout",
     "output_type": "stream",
     "text": [
      "Collecting package metadata (current_repodata.json): ...working... failed\n",
      "Collecting package metadata (current_repodata.json): ...working... failed"
     ]
    },
    {
     "name": "stderr",
     "output_type": "stream",
     "text": [
      "\n",
      "CondaHTTPError: HTTP 000 CONNECTION FAILED for url <https://repo.anaconda.com/pkgs/main/win-64/current_repodata.json>\n",
      "Elapsed: -\n",
      "\n",
      "An HTTP error occurred when trying to retrieve this URL.\n",
      "HTTP errors are often intermittent, and a simple retry will get you on your way.\n",
      "\n",
      "If your current network has https://www.anaconda.com blocked, please file\n",
      "a support request with your network engineering team.\n",
      "\n",
      "'https//repo.anaconda.com/pkgs/main/win-64'\n",
      "\n",
      "\n"
     ]
    },
    {
     "name": "stdout",
     "output_type": "stream",
     "text": [
      "\n",
      "Requirement already satisfied: numpy in c:\\users\\u14929\\appdata\\local\\packages\\pythonsoftwarefoundation.python.3.10_qbz5n2kfra8p0\\localcache\\local-packages\\python310\\site-packages (1.24.3)\n",
      "Requirement already satisfied: pydicom in c:\\users\\u14929\\appdata\\local\\packages\\pythonsoftwarefoundation.python.3.10_qbz5n2kfra8p0\\localcache\\local-packages\\python310\\site-packages (2.4.1)\n"
     ]
    },
    {
     "name": "stderr",
     "output_type": "stream",
     "text": [
      "ERROR: Could not find a version that satisfies the requirement os (from versions: none)\n",
      "ERROR: No matching distribution found for os\n",
      "ERROR: Could not find a version that satisfies the requirement cv2 (from versions: none)\n",
      "ERROR: No matching distribution found for cv2\n"
     ]
    }
   ],
   "source": [
    "# Per OS windows --> Jupyter-notebook\n",
    "!conda install numpy\n",
    "!conda install pydicom\n",
    "!conda install os\n",
    "!conda install cv2\n",
    "\n",
    "# Per OS linux\n",
    "!pip install numpy\n",
    "!pip install pydicom\n",
    "!pip install os\n",
    "!pip install cv2"
   ]
  },
  {
   "cell_type": "code",
   "execution_count": 6,
   "id": "4a8bf3db",
   "metadata": {},
   "outputs": [
    {
     "ename": "ModuleNotFoundError",
     "evalue": "No module named 'pydicom'",
     "output_type": "error",
     "traceback": [
      "\u001b[1;31m---------------------------------------------------------------------------\u001b[0m",
      "\u001b[1;31mModuleNotFoundError\u001b[0m                       Traceback (most recent call last)",
      "Input \u001b[1;32mIn [6]\u001b[0m, in \u001b[0;36m<cell line: 2>\u001b[1;34m()\u001b[0m\n\u001b[0;32m      1\u001b[0m \u001b[38;5;28;01mimport\u001b[39;00m \u001b[38;5;21;01mnumpy\u001b[39;00m \u001b[38;5;28;01mas\u001b[39;00m \u001b[38;5;21;01mnp\u001b[39;00m\n\u001b[1;32m----> 2\u001b[0m \u001b[38;5;28;01mimport\u001b[39;00m \u001b[38;5;21;01mpydicom\u001b[39;00m\n\u001b[0;32m      3\u001b[0m \u001b[38;5;28;01mimport\u001b[39;00m \u001b[38;5;21;01mos\u001b[39;00m\n\u001b[0;32m      4\u001b[0m \u001b[38;5;28;01mimport\u001b[39;00m \u001b[38;5;21;01mcv2\u001b[39;00m\n",
      "\u001b[1;31mModuleNotFoundError\u001b[0m: No module named 'pydicom'"
     ]
    }
   ],
   "source": [
    "import numpy as np\n",
    "import pydicom\n",
    "import os\n",
    "import cv2"
   ]
  },
  {
   "cell_type": "code",
   "execution_count": null,
   "id": "d71fb959",
   "metadata": {},
   "outputs": [],
   "source": [
    "from glob import glob\n",
    "import pydicom\n",
    "import os\n",
    "import cv2\n",
    "from PIL import Image\n",
    "import re\n",
    "import numpy as np\n",
    "\n",
    "# Load the DICOMDIR file\n",
    "dicomdir_path = 'dcm_files/DICOMDIR'\n",
    "dicomdir = pydicom.dcmread(dicomdir_path)\n",
    "\n",
    "record = None\n",
    "for record in dicomdir.DirectoryRecordSequence:\n",
    "    if record.DirectoryRecordType =='IMAGE' and record.InstanceNumber == 1:\n",
    "        break\n",
    "\n",
    "filename = os.path.join(os.path.dirname('dcm_files/DICOMDIR'), record.ReferencedFileID[1])\n",
    "ds = pydicom.dcmread(filename)\n",
    "# print(ds)\n",
    "num_frames = ds.NumberOfFrames\n",
    "\n",
    "pixel_data = ds.pixel_array\n",
    "pixel_data = cv2.normalize(pixel_data, None, 0, 255, cv2.NORM_MINMAX,cv2.CV_8U)\n",
    "print(pixel_data.shape)\n",
    "\n",
    "numbers = re.compile(r'(\\d+)')\n",
    "def numericalSort(value):\n",
    "    parts = numbers.split(value)\n",
    "    parts[1::2] = map(int, parts[1::2])\n",
    "    return parts\n",
    "\n",
    "# extract images from the dcm\n",
    "for i in range(pixel_data.shape[0]):\n",
    "    os.makedirs('Output/dicom_3d_images', exist_ok=True)\n",
    "    slice = pixel_data[i, :, :, :]\n",
    "    if ds.PhotometricInterpretation == 'YBR_FULL_422':\n",
    "        slice = cv2.cvtColor(slice, cv2.COLOR_YUV2RGB)\n",
    "    img = Image.fromarray(slice)\n",
    "    img.save(f'Output/dicom_3d_images/image{i}.jpg')\n",
    "\n",
    "# write images into a video\n",
    "file_path = glob('Output/dicom_3d_images/*.jpg')\n",
    "height, width, _ = cv2.imread(file_path[0]).shape\n",
    "size = (width, height)\n",
    "fourcc = cv2.VideoWriter_fourcc(*'mp4v')\n",
    "fps = ds.CineRate\n",
    "out = cv2.VideoWriter('Output/image1.mp4', fourcc, fps, size)\n",
    "\n",
    "for filename in sorted(file_path, key=numericalSort):\n",
    "    img = cv2.imread(filename)\n",
    "    out.write(img)\n",
    "out.release()"
   ]
  }
 ],
 "metadata": {
  "kernelspec": {
   "display_name": "Python 3 (ipykernel)",
   "language": "python",
   "name": "python3"
  },
  "language_info": {
   "codemirror_mode": {
    "name": "ipython",
    "version": 3
   },
   "file_extension": ".py",
   "mimetype": "text/x-python",
   "name": "python",
   "nbconvert_exporter": "python",
   "pygments_lexer": "ipython3",
   "version": "3.9.12"
  }
 },
 "nbformat": 4,
 "nbformat_minor": 5
}
